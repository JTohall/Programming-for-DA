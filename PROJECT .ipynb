{
 "cells": [
  {
   "cell_type": "markdown",
   "id": "b5a06fc7",
   "metadata": {},
   "source": [
    "## Programming for Data Analysis\n",
    "\n",
    "\n",
    "### Project 1\n",
    "\n",
    "Author: Jamie Tohall\n",
    "Student Number: G00411380\n",
    "Lecturer: Brian McGinley\n",
    "\n",
    "\n",
    "### Objective\n",
    "\n",
    "For this project you must create a data set by simulating a real-world phenomenon of\n",
    "your choosing. You may pick any phenomenon you wish – you might pick one that is\n",
    "of interest to you in your personal or professional life. Then, rather than collect data\n",
    "related to the phenomenon, you should model and synthesise such data using Python.\n",
    "\n",
    "• Choose a real-world phenomenon that can be measured and for which you could\n",
    "collect at least one-hundred data points across at least four different variables.\n",
    "\n",
    "• Investigate the types of variables involved, their likely distributions, and their\n",
    "relationships with each other.\n",
    "\n",
    "• Synthesise/simulate a data set as closely matching their properties as possible.\n",
    "\n",
    "• Detail your research and implement the simulation in a Jupyter notebook – the\n",
    "data set itself can simply be displayed in an output cell within the notebook.\n",
    "\n"
   ]
  },
  {
   "cell_type": "markdown",
   "id": "781ea90d",
   "metadata": {},
   "source": [
    "### Profile of Irish Expats in 2022\n",
    "\n",
    "insert photo\n",
    "\n",
    "insert [Expat definition]\n",
    "\n",
    "For this project I have chosen to create a data set profiling the 'typical' irish expat from the year 2022. I have chosen this topic as it is something i have experience in, I myself moved to Australia in 2015 and lived there for 5 years, before returning to Ireland. It seems that everyone in Ireland has a relation or a friend of a friend that has moved abroad lately, \n",
    "\n",
    "In 2022 an estimated 27,600 Irish people left Ireland to \n",
    "\n",
    " insert relevant CSO data and information\n",
    "\n",
    "Variables\n",
    "\n",
    "gender, age, relationship status, new country of residence, reason for leaving Ireland.\n",
    "\n"
   ]
  },
  {
   "cell_type": "code",
   "execution_count": null,
   "id": "3b9a6713",
   "metadata": {},
   "outputs": [],
   "source": [
    "# Firstly we must import the relevant python packages\n",
    "\n",
    "import numpy\n",
    "import matplotlib\n",
    "import seaborn\n",
    "import pands\n",
    "import sklearm\n",
    "import numpy.random\n"
   ]
  },
  {
   "cell_type": "code",
   "execution_count": null,
   "id": "154918bc",
   "metadata": {},
   "outputs": [],
   "source": []
  },
  {
   "cell_type": "markdown",
   "id": "2f18f578",
   "metadata": {},
   "source": [
    "References  \n",
    "\n",
    "https://www.pythonpool.com/numpy-random/\n",
    "\n",
    "https://www.cso.ie/en/releasesandpublications/er/pme/populationandmigrationestimatesapril2020/\n",
    "\n",
    "https://www.macrotrends.net/countries/IRL/ireland/immigration-statistics\n",
    "\n",
    "https://www.irishtimes.com/life-and-style/abroad/more-irish-emigrants-leaving-the-country-than-returning-again-1.3998770\n",
    "\n",
    "https://www.macrotrends.net/countries/IRL/ireland/net-migration\n",
    "\n",
    "https://www.ucc.ie/en/emigre/history/\n",
    "\n",
    "http://www.globalirish.ie/category/statistics/#:~:text=17%2C000%20left%20Ireland%20last%20year%201%204%2C400%20emigrants,7%2C300%20went%20to%20the%20rest%20of%20the%20world.\n",
    "\n",
    "https://www.irishcentral.com/news/nearly-800000-irish-now-living-abroad-un-figures-show\n",
    "\n",
    "https://www.bing.com/search?q=data+on+irish+expats+&qs=n&form=QBRE&msbsrank=0_1__0&sp=-1&pq=data+on+irish+expats+&sc=1-21&sk=&cvid=9B3E203FAA704515A7AF2C863EDAF3E9&ghsh=0&ghacc=0&ghpl=\n",
    "\n",
    "https://www.irishtimes.com/life-and-style/abroad/generation-emigration/one-in-six-irish-born-people-now-live-abroad-1.2354097\n",
    "\n",
    "https://www.irishtimes.com/life-and-style/generation-emigration/the-global-irish-where-do-they-live-1.2089347\n",
    "\n",
    "https://www.independent.ie/irish-news/emigration-at-record-high-as-87000-people-left-the-country-last-year-cso-28814646.html\n",
    "\n",
    "https://hallofe.vhfdental.com/how-many-emigrated-from-ireland\n",
    "\n",
    "https://www.migrantproject.ie/2022/09/06/increase-in-irish-people-leaving-the-country/#:~:text=According%20to%20the%20latest%20Central%20Statistics%20Office%20Population,people%20emigrated%20in%20the%20year%20to%20April%202021.\n",
    "\n",
    "https://www.cso.ie/en/releasesandpublications/ep/p-pme/populationandmigrationestimatesapril2022/"
   ]
  }
 ],
 "metadata": {
  "kernelspec": {
   "display_name": "Python 3 (ipykernel)",
   "language": "python",
   "name": "python3"
  },
  "language_info": {
   "codemirror_mode": {
    "name": "ipython",
    "version": 3
   },
   "file_extension": ".py",
   "mimetype": "text/x-python",
   "name": "python",
   "nbconvert_exporter": "python",
   "pygments_lexer": "ipython3",
   "version": "3.9.7"
  }
 },
 "nbformat": 4,
 "nbformat_minor": 5
}
