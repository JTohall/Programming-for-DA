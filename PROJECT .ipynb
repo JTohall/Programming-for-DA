{
 "cells": [
  {
   "cell_type": "markdown",
   "id": "b5a06fc7",
   "metadata": {},
   "source": [
    "## Programming for Data Analysis\n",
    "\n",
    "Jamie Tohall\n",
    "G00411380\n",
    "\n",
    "\n",
    "### Project 1\n",
    "\n",
    "For this project you must create a data set by simulating a real-world phenomenon of\n",
    "your choosing. You may pick any phenomenon you wish – you might pick one that is\n",
    "of interest to you in your personal or professional life. Then, rather than collect data\n",
    "related to the phenomenon, you should model and synthesise such data using Python.\n",
    "\n"
   ]
  },
  {
   "cell_type": "markdown",
   "id": "781ea90d",
   "metadata": {},
   "source": [
    "### Introduction\n",
    "\n",
    "For this project I will be analysing the dataset of Fruit flies, their lifespan ans sexual activity. \n",
    "\n",
    "https://vincentarelbundock.github.io/Rdatasets/doc/Stat2Data/FruitFlies.html\n",
    "\n",
    "\n",
    "\n",
    "\n",
    "\n",
    "\n",
    "\n"
   ]
  },
  {
   "cell_type": "code",
   "execution_count": null,
   "id": "3b9a6713",
   "metadata": {},
   "outputs": [],
   "source": [
    "# Firstly we must import the relevant python packages\n",
    "\n",
    "import numpy\n",
    "import matplotlib\n",
    "import seaborn\n",
    "import pands\n",
    "import sklearm\n",
    "\n"
   ]
  },
  {
   "cell_type": "markdown",
   "id": "2f18f578",
   "metadata": {},
   "source": [
    "references  \n",
    "\n",
    "[1] https://vincentarelbundock.github.io/Rdatasets/datasets.html\n"
   ]
  }
 ],
 "metadata": {
  "kernelspec": {
   "display_name": "Python 3 (ipykernel)",
   "language": "python",
   "name": "python3"
  },
  "language_info": {
   "codemirror_mode": {
    "name": "ipython",
    "version": 3
   },
   "file_extension": ".py",
   "mimetype": "text/x-python",
   "name": "python",
   "nbconvert_exporter": "python",
   "pygments_lexer": "ipython3",
   "version": "3.9.7"
  }
 },
 "nbformat": 4,
 "nbformat_minor": 5
}
